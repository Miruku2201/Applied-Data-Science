{
 "cells": [
  {
   "cell_type": "markdown",
   "metadata": {},
   "source": [
    "__Training with SpaCy__"
   ]
  },
  {
   "cell_type": "code",
   "execution_count": null,
   "metadata": {},
   "outputs": [],
   "source": [
    "import spacy\n",
    "from spacy.tokens import DocBin\n",
    "import json\n",
    "from tqdm import tqdm\n",
    "from sklearn.model_selection import train_test_split"
   ]
  },
  {
   "cell_type": "markdown",
   "metadata": {},
   "source": [
    "__Creating training data__"
   ]
  },
  {
   "cell_type": "code",
   "execution_count": null,
   "metadata": {},
   "outputs": [],
   "source": [
    "def get_spacy_doc(file, data):\n",
    "    nlp = spacy.blank('en')\n",
    "    docbin = DocBin()\n",
    "\n",
    "    for text, annot in tqdm(data):\n",
    "        doc = nlp.make_doc(text)\n",
    "        annot = annot['entities']\n",
    "        ents = []\n",
    "        entity_indices = []\n",
    "        for start, end, label in  annot:\n",
    "            skip_entity =  False\n",
    "            for i in range(start, end):\n",
    "                if i in entity_indices:\n",
    "                    skip_entity = True\n",
    "                    break\n",
    "            if skip_entity == True:\n",
    "                continue\n",
    "\n",
    "            entity_indices += list(range(start, end))\n",
    "\n",
    "            try: \n",
    "                span = doc.char_span(start, \n",
    "                                     end, \n",
    "                                     label = label, \n",
    "                                     alignment_mode = 'stict')\n",
    "            except:\n",
    "                continue\n",
    "\n",
    "            if span == None:\n",
    "                err_data = str([start, end]) + '    ' + str(text) + '\\n'\n",
    "                file.write(err_data)\n",
    "            else:\n",
    "                ents.append(span)\n",
    "\n",
    "        try:\n",
    "            doc.ents = ents \n",
    "            docbin.add(doc)\n",
    "        except:\n",
    "            pass\n",
    "    return docbin"
   ]
  },
  {
   "cell_type": "code",
   "execution_count": null,
   "metadata": {},
   "outputs": [],
   "source": [
    "json_path = './data/training/dataset.json'\n",
    "dataset = json.load(open(json_path, 'r'))\n",
    "print(len(dataset))"
   ]
  },
  {
   "cell_type": "code",
   "execution_count": null,
   "metadata": {},
   "outputs": [],
   "source": [
    "train, test = train_test_split(dataset, test_size = 0.1)\n",
    "print(f'Train set:\" {len(train)}')\n",
    "print(f'Test set:\" {len(test)}')"
   ]
  },
  {
   "cell_type": "code",
   "execution_count": null,
   "metadata": {},
   "outputs": [],
   "source": [
    "file_path = open('./data/training/train_file.txt')\n",
    "docbin = get_spacy_doc(file_path, train)\n",
    "docbin.to_disk('./data/training/train_data.spacy')\n",
    "\n",
    "docbin = get_spacy_doc(file_path, test)\n",
    "docbin.to_disk('./data/training/test_data.spacy')"
   ]
  }
 ],
 "metadata": {
  "kernelspec": {
   "display_name": "work",
   "language": "python",
   "name": "python3"
  },
  "language_info": {
   "codemirror_mode": {
    "name": "ipython",
    "version": 3
   },
   "file_extension": ".py",
   "mimetype": "text/x-python",
   "name": "python",
   "nbconvert_exporter": "python",
   "pygments_lexer": "ipython3",
   "version": "3.11.8"
  }
 },
 "nbformat": 4,
 "nbformat_minor": 2
}
