{
 "cells": [
  {
   "cell_type": "code",
   "execution_count": 1,
   "metadata": {},
   "outputs": [],
   "source": [
    "from facebook_scraper import get_posts\n",
    "import json"
   ]
  },
  {
   "cell_type": "code",
   "execution_count": 2,
   "metadata": {},
   "outputs": [],
   "source": [
    "FAN_PAGE_LINK = \"174764463261090\"\n",
    "posts = []"
   ]
  },
  {
   "cell_type": "code",
   "execution_count": 3,
   "metadata": {},
   "outputs": [],
   "source": [
    "posts_list = get_posts(\n",
    "            group=FAN_PAGE_LINK,pages=10, options={\"allow_extra_requests\": True}, cookies = \"cookies.txt\", days_limit = 3\n",
    "        )"
   ]
  },
  {
   "cell_type": "code",
   "execution_count": 4,
   "metadata": {},
   "outputs": [
    {
     "data": {
      "text/plain": [
       "<generator object FacebookScraper._generic_get_posts at 0x000002AF6E9DF100>"
      ]
     },
     "execution_count": 4,
     "metadata": {},
     "output_type": "execute_result"
    }
   ],
   "source": [
    "posts_list"
   ]
  },
  {
   "cell_type": "code",
   "execution_count": 5,
   "metadata": {},
   "outputs": [],
   "source": [
    "# with open('post-comments.json', 'w', encoding='utf-8') as of:\n",
    "#     json.dump(list(posts_list), of, indent=4, default=str, ensure_ascii=False)"
   ]
  },
  {
   "cell_type": "code",
   "execution_count": 6,
   "metadata": {},
   "outputs": [
    {
     "name": "stderr",
     "output_type": "stream",
     "text": [
      "c:\\Users\\Nam\\miniconda3\\envs\\myenv\\Lib\\site-packages\\facebook_scraper\\facebook_scraper.py:929: UserWarning: Facebook says 'Unsupported Browser'\n",
      "  warnings.warn(f\"Facebook says 'Unsupported Browser'\")\n"
     ]
    }
   ],
   "source": [
    "posts_list = list(posts_list)"
   ]
  },
  {
   "cell_type": "code",
   "execution_count": 7,
   "metadata": {},
   "outputs": [],
   "source": [
    "enable_post = []\n",
    "for post in posts_list:\n",
    "    if (post['post_text'] != ''):\n",
    "        enable_post.append(post)"
   ]
  },
  {
   "cell_type": "code",
   "execution_count": 8,
   "metadata": {},
   "outputs": [
    {
     "data": {
      "text/plain": [
       "210"
      ]
     },
     "execution_count": 8,
     "metadata": {},
     "output_type": "execute_result"
    }
   ],
   "source": [
    "len(posts_list)"
   ]
  },
  {
   "cell_type": "code",
   "execution_count": 9,
   "metadata": {},
   "outputs": [
    {
     "data": {
      "text/plain": [
       "110"
      ]
     },
     "execution_count": 9,
     "metadata": {},
     "output_type": "execute_result"
    }
   ],
   "source": [
    "len(enable_post)"
   ]
  },
  {
   "cell_type": "code",
   "execution_count": 11,
   "metadata": {},
   "outputs": [
    {
     "name": "stdout",
     "output_type": "stream",
     "text": [
      " ----------------------------------------------- \n",
      "Trân trọng 🙂\n",
      "Cre:\n",
      " ----------------------------------------------- \n",
      "[Tuyển dụng] DDS tuyển dụng Intern Parttime/Fulltime\n",
      "NodeJS, Java, ReactJS, React Native, Flutter, Kotlin, Swift\n",
      "Lương cứng 8-10M\n",
      " ----------------------------------------------- \n",
      "Đã học xong, bạn nào cần các khóa Lập Trình mình gửi nhé, đầy đủ tài liệu, video lí thuyết+bài tập từ cơ bản đến nâng cao\n",
      " ----------------------------------------------- \n",
      "Các ace cho em xin review về cty Sanan này được không ạ không biết lương của dev 1 năm kn có khá không thấy đứng top cty xịn\n",
      " ----------------------------------------------- \n",
      "[HCM] Em là sinh viên nghành hệ thống thông tin có thể thực tập fulltime, có laptop riêng có kiến thức về mysql, sqlserver, python, java và microsoft office luôn sẵn sàng học thêm kiến thức mới mong muốn kiếm được job intern data analyst hoặc ba cũng như tiếp tục làm việc dài hạn ạ.\n",
      "(Vì đã từng viết SEO bằng tiếng anh nên khả năng đọc hiểu tài liệu tiếng anh, soạn thảo và giao tiếp đơn giản của em khác ổn ạ.)\n",
      " ----------------------------------------------- \n",
      "Dạ Em đang là sv năm 4 đang cần tìm nơi thực tập tester hoặc BA của công ty nào đó thôi cũng được ạ. Hic tìm mà khó quá ạ 🥹🥹\n",
      " ----------------------------------------------- \n",
      "frontend, backend cạnh tranh ác thật.\n",
      " ----------------------------------------------- \n",
      "[Hà Nội] C.ty CNTT đào tạo nhân sự web từ đầu, on job training, thực tập +dấu mộc, deal lương khi join dự án tùy năng lực. Qt ib\n",
      " ----------------------------------------------- \n",
      "[Hà Nội] Công ty outsource tìm các bạn đam mê lập trình đào tạo lại từ đầu (chấp nhận base yếu), deal lương sau học tùy năng lực.\n",
      " ----------------------------------------------- \n",
      "Em là con trai nhưng thực tập và theo hướng BA được không ạ?\n",
      " ----------------------------------------------- \n",
      "Có bao nhiêu bạn trong nhóm đang khó khăn trong việc tìm kiếm thực tập để có chứng nhận thực tập để tốt nghiệp và trau dồi kinh nghiệm?\n",
      "Các bạn comment cả lĩnh vực thế mạnh mà các bạn đang tìm kiếm thực tập nữa nhé. Để mình và ban quản trị sẽ tìm giải pháp hỗ trợ mass cho các bạn, nếu số lượng các bạn đang gặp khó khăn nhiều nhé!\n",
      " ----------------------------------------------- \n",
      "Trân trọng 🙂\n",
      "Cre:\n",
      " ----------------------------------------------- \n",
      "[Tuyển dụng] DDS tuyển dụng Intern Parttime/Fulltime\n",
      "NodeJS, Java, ReactJS, React Native, Flutter, Kotlin, Swift\n",
      "Lương cứng 8-10M\n",
      " ----------------------------------------------- \n",
      "Đã học xong, bạn nào cần các khóa Lập Trình mình gửi nhé, đầy đủ tài liệu, video lí thuyết+bài tập từ cơ bản đến nâng cao\n",
      " ----------------------------------------------- \n",
      "Các ace cho em xin review về cty Sanan này được không ạ không biết lương của dev 1 năm kn có khá không thấy đứng top cty xịn\n",
      " ----------------------------------------------- \n",
      "[HCM] Em là sinh viên nghành hệ thống thông tin có thể thực tập fulltime, có laptop riêng có kiến thức về mysql, sqlserver, python, java và microsoft office luôn sẵn sàng học thêm kiến thức mới mong muốn kiếm được job intern data analyst hoặc ba cũng như tiếp tục làm việc dài hạn ạ.\n",
      "(Vì đã từng viết SEO bằng tiếng anh nên khả năng đọc hiểu tài liệu tiếng anh, soạn thảo và giao tiếp đơn giản của em khác ổn ạ.)\n",
      " ----------------------------------------------- \n",
      "Dạ Em đang là sv năm 4 đang cần tìm nơi thực tập tester hoặc BA của công ty nào đó thôi cũng được ạ. Hic tìm mà khó quá ạ 🥹🥹\n",
      " ----------------------------------------------- \n",
      "frontend, backend cạnh tranh ác thật.\n",
      " ----------------------------------------------- \n",
      "[Hà Nội] C.ty CNTT đào tạo nhân sự web từ đầu, on job training, thực tập +dấu mộc, deal lương khi join dự án tùy năng lực. Qt ib\n",
      " ----------------------------------------------- \n",
      "[Hà Nội] Công ty outsource tìm các bạn đam mê lập trình đào tạo lại từ đầu (chấp nhận base yếu), deal lương sau học tùy năng lực.\n",
      " ----------------------------------------------- \n",
      "Em là con trai nhưng thực tập và theo hướng BA được không ạ?\n",
      " ----------------------------------------------- \n",
      "Có bao nhiêu bạn trong nhóm đang khó khăn trong việc tìm kiếm thực tập để có chứng nhận thực tập để tốt nghiệp và trau dồi kinh nghiệm?\n",
      "Các bạn comment cả lĩnh vực thế mạnh mà các bạn đang tìm kiếm thực tập nữa nhé. Để mình và ban quản trị sẽ tìm giải pháp hỗ trợ mass cho các bạn, nếu số lượng các bạn đang gặp khó khăn nhiều nhé!\n",
      " ----------------------------------------------- \n",
      "Trân trọng 🙂\n",
      "Cre:\n",
      " ----------------------------------------------- \n",
      "[Tuyển dụng] DDS tuyển dụng Intern Parttime/Fulltime\n",
      "NodeJS, Java, ReactJS, React Native, Flutter, Kotlin, Swift\n",
      "Lương cứng 8-10M\n",
      " ----------------------------------------------- \n",
      "Đã học xong, bạn nào cần các khóa Lập Trình mình gửi nhé, đầy đủ tài liệu, video lí thuyết+bài tập từ cơ bản đến nâng cao\n",
      " ----------------------------------------------- \n",
      "Các ace cho em xin review về cty Sanan này được không ạ không biết lương của dev 1 năm kn có khá không thấy đứng top cty xịn\n",
      " ----------------------------------------------- \n",
      "[HCM] Em là sinh viên nghành hệ thống thông tin có thể thực tập fulltime, có laptop riêng có kiến thức về mysql, sqlserver, python, java và microsoft office luôn sẵn sàng học thêm kiến thức mới mong muốn kiếm được job intern data analyst hoặc ba cũng như tiếp tục làm việc dài hạn ạ.\n",
      "(Vì đã từng viết SEO bằng tiếng anh nên khả năng đọc hiểu tài liệu tiếng anh, soạn thảo và giao tiếp đơn giản của em khác ổn ạ.)\n",
      " ----------------------------------------------- \n",
      "Dạ Em đang là sv năm 4 đang cần tìm nơi thực tập tester hoặc BA của công ty nào đó thôi cũng được ạ. Hic tìm mà khó quá ạ 🥹🥹\n",
      " ----------------------------------------------- \n",
      "frontend, backend cạnh tranh ác thật.\n",
      " ----------------------------------------------- \n",
      "[Hà Nội] C.ty CNTT đào tạo nhân sự web từ đầu, on job training, thực tập +dấu mộc, deal lương khi join dự án tùy năng lực. Qt ib\n",
      " ----------------------------------------------- \n",
      "[Hà Nội] Công ty outsource tìm các bạn đam mê lập trình đào tạo lại từ đầu (chấp nhận base yếu), deal lương sau học tùy năng lực.\n",
      " ----------------------------------------------- \n",
      "Em là con trai nhưng thực tập và theo hướng BA được không ạ?\n",
      " ----------------------------------------------- \n",
      "Có bao nhiêu bạn trong nhóm đang khó khăn trong việc tìm kiếm thực tập để có chứng nhận thực tập để tốt nghiệp và trau dồi kinh nghiệm?\n",
      "Các bạn comment cả lĩnh vực thế mạnh mà các bạn đang tìm kiếm thực tập nữa nhé. Để mình và ban quản trị sẽ tìm giải pháp hỗ trợ mass cho các bạn, nếu số lượng các bạn đang gặp khó khăn nhiều nhé!\n",
      " ----------------------------------------------- \n",
      "Trân trọng 🙂\n",
      "Cre:\n",
      " ----------------------------------------------- \n",
      "[Tuyển dụng] DDS tuyển dụng Intern Parttime/Fulltime\n",
      "NodeJS, Java, ReactJS, React Native, Flutter, Kotlin, Swift\n",
      "Lương cứng 8-10M\n",
      " ----------------------------------------------- \n",
      "Đã học xong, bạn nào cần các khóa Lập Trình mình gửi nhé, đầy đủ tài liệu, video lí thuyết+bài tập từ cơ bản đến nâng cao\n",
      " ----------------------------------------------- \n",
      "Các ace cho em xin review về cty Sanan này được không ạ không biết lương của dev 1 năm kn có khá không thấy đứng top cty xịn\n",
      " ----------------------------------------------- \n",
      "[HCM] Em là sinh viên nghành hệ thống thông tin có thể thực tập fulltime, có laptop riêng có kiến thức về mysql, sqlserver, python, java và microsoft office luôn sẵn sàng học thêm kiến thức mới mong muốn kiếm được job intern data analyst hoặc ba cũng như tiếp tục làm việc dài hạn ạ.\n",
      "(Vì đã từng viết SEO bằng tiếng anh nên khả năng đọc hiểu tài liệu tiếng anh, soạn thảo và giao tiếp đơn giản của em khác ổn ạ.)\n",
      " ----------------------------------------------- \n",
      "Dạ Em đang là sv năm 4 đang cần tìm nơi thực tập tester hoặc BA của công ty nào đó thôi cũng được ạ. Hic tìm mà khó quá ạ 🥹🥹\n",
      " ----------------------------------------------- \n",
      "frontend, backend cạnh tranh ác thật.\n",
      " ----------------------------------------------- \n",
      "[Hà Nội] C.ty CNTT đào tạo nhân sự web từ đầu, on job training, thực tập +dấu mộc, deal lương khi join dự án tùy năng lực. Qt ib\n",
      " ----------------------------------------------- \n",
      "[Hà Nội] Công ty outsource tìm các bạn đam mê lập trình đào tạo lại từ đầu (chấp nhận base yếu), deal lương sau học tùy năng lực.\n",
      " ----------------------------------------------- \n",
      "Em là con trai nhưng thực tập và theo hướng BA được không ạ?\n",
      " ----------------------------------------------- \n",
      "Có bao nhiêu bạn trong nhóm đang khó khăn trong việc tìm kiếm thực tập để có chứng nhận thực tập để tốt nghiệp và trau dồi kinh nghiệm?\n",
      "Các bạn comment cả lĩnh vực thế mạnh mà các bạn đang tìm kiếm thực tập nữa nhé. Để mình và ban quản trị sẽ tìm giải pháp hỗ trợ mass cho các bạn, nếu số lượng các bạn đang gặp khó khăn nhiều nhé!\n",
      " ----------------------------------------------- \n",
      "Trân trọng 🙂\n",
      "Cre:\n",
      " ----------------------------------------------- \n",
      "[Tuyển dụng] DDS tuyển dụng Intern Parttime/Fulltime\n",
      "NodeJS, Java, ReactJS, React Native, Flutter, Kotlin, Swift\n",
      "Lương cứng 8-10M\n",
      " ----------------------------------------------- \n",
      "Đã học xong, bạn nào cần các khóa Lập Trình mình gửi nhé, đầy đủ tài liệu, video lí thuyết+bài tập từ cơ bản đến nâng cao\n",
      " ----------------------------------------------- \n",
      "Các ace cho em xin review về cty Sanan này được không ạ không biết lương của dev 1 năm kn có khá không thấy đứng top cty xịn\n",
      " ----------------------------------------------- \n",
      "[HCM] Em là sinh viên nghành hệ thống thông tin có thể thực tập fulltime, có laptop riêng có kiến thức về mysql, sqlserver, python, java và microsoft office luôn sẵn sàng học thêm kiến thức mới mong muốn kiếm được job intern data analyst hoặc ba cũng như tiếp tục làm việc dài hạn ạ.\n",
      "(Vì đã từng viết SEO bằng tiếng anh nên khả năng đọc hiểu tài liệu tiếng anh, soạn thảo và giao tiếp đơn giản của em khác ổn ạ.)\n",
      " ----------------------------------------------- \n",
      "Dạ Em đang là sv năm 4 đang cần tìm nơi thực tập tester hoặc BA của công ty nào đó thôi cũng được ạ. Hic tìm mà khó quá ạ 🥹🥹\n",
      " ----------------------------------------------- \n",
      "frontend, backend cạnh tranh ác thật.\n",
      " ----------------------------------------------- \n",
      "[Hà Nội] C.ty CNTT đào tạo nhân sự web từ đầu, on job training, thực tập +dấu mộc, deal lương khi join dự án tùy năng lực. Qt ib\n",
      " ----------------------------------------------- \n",
      "[Hà Nội] Công ty outsource tìm các bạn đam mê lập trình đào tạo lại từ đầu (chấp nhận base yếu), deal lương sau học tùy năng lực.\n",
      " ----------------------------------------------- \n",
      "Em là con trai nhưng thực tập và theo hướng BA được không ạ?\n",
      " ----------------------------------------------- \n",
      "Có bao nhiêu bạn trong nhóm đang khó khăn trong việc tìm kiếm thực tập để có chứng nhận thực tập để tốt nghiệp và trau dồi kinh nghiệm?\n",
      "Các bạn comment cả lĩnh vực thế mạnh mà các bạn đang tìm kiếm thực tập nữa nhé. Để mình và ban quản trị sẽ tìm giải pháp hỗ trợ mass cho các bạn, nếu số lượng các bạn đang gặp khó khăn nhiều nhé!\n",
      " ----------------------------------------------- \n",
      "Trân trọng 🙂\n",
      "Cre:\n",
      " ----------------------------------------------- \n",
      "[Tuyển dụng] DDS tuyển dụng Intern Parttime/Fulltime\n",
      "NodeJS, Java, ReactJS, React Native, Flutter, Kotlin, Swift\n",
      "Lương cứng 8-10M\n",
      " ----------------------------------------------- \n",
      "Đã học xong, bạn nào cần các khóa Lập Trình mình gửi nhé, đầy đủ tài liệu, video lí thuyết+bài tập từ cơ bản đến nâng cao\n",
      " ----------------------------------------------- \n",
      "Các ace cho em xin review về cty Sanan này được không ạ không biết lương của dev 1 năm kn có khá không thấy đứng top cty xịn\n",
      " ----------------------------------------------- \n",
      "[HCM] Em là sinh viên nghành hệ thống thông tin có thể thực tập fulltime, có laptop riêng có kiến thức về mysql, sqlserver, python, java và microsoft office luôn sẵn sàng học thêm kiến thức mới mong muốn kiếm được job intern data analyst hoặc ba cũng như tiếp tục làm việc dài hạn ạ.\n",
      "(Vì đã từng viết SEO bằng tiếng anh nên khả năng đọc hiểu tài liệu tiếng anh, soạn thảo và giao tiếp đơn giản của em khác ổn ạ.)\n",
      " ----------------------------------------------- \n",
      "Dạ Em đang là sv năm 4 đang cần tìm nơi thực tập tester hoặc BA của công ty nào đó thôi cũng được ạ. Hic tìm mà khó quá ạ 🥹🥹\n",
      " ----------------------------------------------- \n",
      "frontend, backend cạnh tranh ác thật.\n",
      " ----------------------------------------------- \n",
      "[Hà Nội] C.ty CNTT đào tạo nhân sự web từ đầu, on job training, thực tập +dấu mộc, deal lương khi join dự án tùy năng lực. Qt ib\n",
      " ----------------------------------------------- \n",
      "[Hà Nội] Công ty outsource tìm các bạn đam mê lập trình đào tạo lại từ đầu (chấp nhận base yếu), deal lương sau học tùy năng lực.\n",
      " ----------------------------------------------- \n",
      "Em là con trai nhưng thực tập và theo hướng BA được không ạ?\n",
      " ----------------------------------------------- \n",
      "Có bao nhiêu bạn trong nhóm đang khó khăn trong việc tìm kiếm thực tập để có chứng nhận thực tập để tốt nghiệp và trau dồi kinh nghiệm?\n",
      "Các bạn comment cả lĩnh vực thế mạnh mà các bạn đang tìm kiếm thực tập nữa nhé. Để mình và ban quản trị sẽ tìm giải pháp hỗ trợ mass cho các bạn, nếu số lượng các bạn đang gặp khó khăn nhiều nhé!\n",
      " ----------------------------------------------- \n",
      "Trân trọng 🙂\n",
      "Cre:\n",
      " ----------------------------------------------- \n",
      "[Tuyển dụng] DDS tuyển dụng Intern Parttime/Fulltime\n",
      "NodeJS, Java, ReactJS, React Native, Flutter, Kotlin, Swift\n",
      "Lương cứng 8-10M\n",
      " ----------------------------------------------- \n",
      "Đã học xong, bạn nào cần các khóa Lập Trình mình gửi nhé, đầy đủ tài liệu, video lí thuyết+bài tập từ cơ bản đến nâng cao\n",
      " ----------------------------------------------- \n",
      "Các ace cho em xin review về cty Sanan này được không ạ không biết lương của dev 1 năm kn có khá không thấy đứng top cty xịn\n",
      " ----------------------------------------------- \n",
      "[HCM] Em là sinh viên nghành hệ thống thông tin có thể thực tập fulltime, có laptop riêng có kiến thức về mysql, sqlserver, python, java và microsoft office luôn sẵn sàng học thêm kiến thức mới mong muốn kiếm được job intern data analyst hoặc ba cũng như tiếp tục làm việc dài hạn ạ.\n",
      "(Vì đã từng viết SEO bằng tiếng anh nên khả năng đọc hiểu tài liệu tiếng anh, soạn thảo và giao tiếp đơn giản của em khác ổn ạ.)\n",
      " ----------------------------------------------- \n",
      "Dạ Em đang là sv năm 4 đang cần tìm nơi thực tập tester hoặc BA của công ty nào đó thôi cũng được ạ. Hic tìm mà khó quá ạ 🥹🥹\n",
      " ----------------------------------------------- \n",
      "frontend, backend cạnh tranh ác thật.\n",
      " ----------------------------------------------- \n",
      "[Hà Nội] C.ty CNTT đào tạo nhân sự web từ đầu, on job training, thực tập +dấu mộc, deal lương khi join dự án tùy năng lực. Qt ib\n",
      " ----------------------------------------------- \n",
      "[Hà Nội] Công ty outsource tìm các bạn đam mê lập trình đào tạo lại từ đầu (chấp nhận base yếu), deal lương sau học tùy năng lực.\n",
      " ----------------------------------------------- \n",
      "Em là con trai nhưng thực tập và theo hướng BA được không ạ?\n",
      " ----------------------------------------------- \n",
      "Có bao nhiêu bạn trong nhóm đang khó khăn trong việc tìm kiếm thực tập để có chứng nhận thực tập để tốt nghiệp và trau dồi kinh nghiệm?\n",
      "Các bạn comment cả lĩnh vực thế mạnh mà các bạn đang tìm kiếm thực tập nữa nhé. Để mình và ban quản trị sẽ tìm giải pháp hỗ trợ mass cho các bạn, nếu số lượng các bạn đang gặp khó khăn nhiều nhé!\n",
      " ----------------------------------------------- \n",
      "Trân trọng 🙂\n",
      "Cre:\n",
      " ----------------------------------------------- \n",
      "[Tuyển dụng] DDS tuyển dụng Intern Parttime/Fulltime\n",
      "NodeJS, Java, ReactJS, React Native, Flutter, Kotlin, Swift\n",
      "Lương cứng 8-10M\n",
      " ----------------------------------------------- \n",
      "Đã học xong, bạn nào cần các khóa Lập Trình mình gửi nhé, đầy đủ tài liệu, video lí thuyết+bài tập từ cơ bản đến nâng cao\n",
      " ----------------------------------------------- \n",
      "Các ace cho em xin review về cty Sanan này được không ạ không biết lương của dev 1 năm kn có khá không thấy đứng top cty xịn\n",
      " ----------------------------------------------- \n",
      "[HCM] Em là sinh viên nghành hệ thống thông tin có thể thực tập fulltime, có laptop riêng có kiến thức về mysql, sqlserver, python, java và microsoft office luôn sẵn sàng học thêm kiến thức mới mong muốn kiếm được job intern data analyst hoặc ba cũng như tiếp tục làm việc dài hạn ạ.\n",
      "(Vì đã từng viết SEO bằng tiếng anh nên khả năng đọc hiểu tài liệu tiếng anh, soạn thảo và giao tiếp đơn giản của em khác ổn ạ.)\n",
      " ----------------------------------------------- \n",
      "Dạ Em đang là sv năm 4 đang cần tìm nơi thực tập tester hoặc BA của công ty nào đó thôi cũng được ạ. Hic tìm mà khó quá ạ 🥹🥹\n",
      " ----------------------------------------------- \n",
      "frontend, backend cạnh tranh ác thật.\n",
      " ----------------------------------------------- \n",
      "[Hà Nội] C.ty CNTT đào tạo nhân sự web từ đầu, on job training, thực tập +dấu mộc, deal lương khi join dự án tùy năng lực. Qt ib\n",
      " ----------------------------------------------- \n",
      "[Hà Nội] Công ty outsource tìm các bạn đam mê lập trình đào tạo lại từ đầu (chấp nhận base yếu), deal lương sau học tùy năng lực.\n",
      " ----------------------------------------------- \n",
      "Em là con trai nhưng thực tập và theo hướng BA được không ạ?\n",
      " ----------------------------------------------- \n",
      "Có bao nhiêu bạn trong nhóm đang khó khăn trong việc tìm kiếm thực tập để có chứng nhận thực tập để tốt nghiệp và trau dồi kinh nghiệm?\n",
      "Các bạn comment cả lĩnh vực thế mạnh mà các bạn đang tìm kiếm thực tập nữa nhé. Để mình và ban quản trị sẽ tìm giải pháp hỗ trợ mass cho các bạn, nếu số lượng các bạn đang gặp khó khăn nhiều nhé!\n",
      " ----------------------------------------------- \n",
      "Trân trọng 🙂\n",
      "Cre:\n",
      " ----------------------------------------------- \n",
      "[Tuyển dụng] DDS tuyển dụng Intern Parttime/Fulltime\n",
      "NodeJS, Java, ReactJS, React Native, Flutter, Kotlin, Swift\n",
      "Lương cứng 8-10M\n",
      " ----------------------------------------------- \n",
      "Đã học xong, bạn nào cần các khóa Lập Trình mình gửi nhé, đầy đủ tài liệu, video lí thuyết+bài tập từ cơ bản đến nâng cao\n",
      " ----------------------------------------------- \n",
      "Các ace cho em xin review về cty Sanan này được không ạ không biết lương của dev 1 năm kn có khá không thấy đứng top cty xịn\n",
      " ----------------------------------------------- \n",
      "[HCM] Em là sinh viên nghành hệ thống thông tin có thể thực tập fulltime, có laptop riêng có kiến thức về mysql, sqlserver, python, java và microsoft office luôn sẵn sàng học thêm kiến thức mới mong muốn kiếm được job intern data analyst hoặc ba cũng như tiếp tục làm việc dài hạn ạ.\n",
      "(Vì đã từng viết SEO bằng tiếng anh nên khả năng đọc hiểu tài liệu tiếng anh, soạn thảo và giao tiếp đơn giản của em khác ổn ạ.)\n",
      " ----------------------------------------------- \n",
      "Dạ Em đang là sv năm 4 đang cần tìm nơi thực tập tester hoặc BA của công ty nào đó thôi cũng được ạ. Hic tìm mà khó quá ạ 🥹🥹\n",
      " ----------------------------------------------- \n",
      "frontend, backend cạnh tranh ác thật.\n",
      " ----------------------------------------------- \n",
      "[Hà Nội] C.ty CNTT đào tạo nhân sự web từ đầu, on job training, thực tập +dấu mộc, deal lương khi join dự án tùy năng lực. Qt ib\n",
      " ----------------------------------------------- \n",
      "[Hà Nội] Công ty outsource tìm các bạn đam mê lập trình đào tạo lại từ đầu (chấp nhận base yếu), deal lương sau học tùy năng lực.\n",
      " ----------------------------------------------- \n",
      "Em là con trai nhưng thực tập và theo hướng BA được không ạ?\n",
      " ----------------------------------------------- \n",
      "Có bao nhiêu bạn trong nhóm đang khó khăn trong việc tìm kiếm thực tập để có chứng nhận thực tập để tốt nghiệp và trau dồi kinh nghiệm?\n",
      "Các bạn comment cả lĩnh vực thế mạnh mà các bạn đang tìm kiếm thực tập nữa nhé. Để mình và ban quản trị sẽ tìm giải pháp hỗ trợ mass cho các bạn, nếu số lượng các bạn đang gặp khó khăn nhiều nhé!\n",
      " ----------------------------------------------- \n",
      "Trân trọng 🙂\n",
      "Cre:\n",
      " ----------------------------------------------- \n",
      "[Tuyển dụng] DDS tuyển dụng Intern Parttime/Fulltime\n",
      "NodeJS, Java, ReactJS, React Native, Flutter, Kotlin, Swift\n",
      "Lương cứng 8-10M\n",
      " ----------------------------------------------- \n",
      "Đã học xong, bạn nào cần các khóa Lập Trình mình gửi nhé, đầy đủ tài liệu, video lí thuyết+bài tập từ cơ bản đến nâng cao\n",
      " ----------------------------------------------- \n",
      "Các ace cho em xin review về cty Sanan này được không ạ không biết lương của dev 1 năm kn có khá không thấy đứng top cty xịn\n",
      " ----------------------------------------------- \n",
      "[HCM] Em là sinh viên nghành hệ thống thông tin có thể thực tập fulltime, có laptop riêng có kiến thức về mysql, sqlserver, python, java và microsoft office luôn sẵn sàng học thêm kiến thức mới mong muốn kiếm được job intern data analyst hoặc ba cũng như tiếp tục làm việc dài hạn ạ.\n",
      "(Vì đã từng viết SEO bằng tiếng anh nên khả năng đọc hiểu tài liệu tiếng anh, soạn thảo và giao tiếp đơn giản của em khác ổn ạ.)\n",
      " ----------------------------------------------- \n",
      "Dạ Em đang là sv năm 4 đang cần tìm nơi thực tập tester hoặc BA của công ty nào đó thôi cũng được ạ. Hic tìm mà khó quá ạ 🥹🥹\n",
      " ----------------------------------------------- \n",
      "frontend, backend cạnh tranh ác thật.\n",
      " ----------------------------------------------- \n",
      "[Hà Nội] C.ty CNTT đào tạo nhân sự web từ đầu, on job training, thực tập +dấu mộc, deal lương khi join dự án tùy năng lực. Qt ib\n",
      " ----------------------------------------------- \n",
      "[Hà Nội] Công ty outsource tìm các bạn đam mê lập trình đào tạo lại từ đầu (chấp nhận base yếu), deal lương sau học tùy năng lực.\n",
      " ----------------------------------------------- \n",
      "Em là con trai nhưng thực tập và theo hướng BA được không ạ?\n",
      " ----------------------------------------------- \n",
      "Có bao nhiêu bạn trong nhóm đang khó khăn trong việc tìm kiếm thực tập để có chứng nhận thực tập để tốt nghiệp và trau dồi kinh nghiệm?\n",
      "Các bạn comment cả lĩnh vực thế mạnh mà các bạn đang tìm kiếm thực tập nữa nhé. Để mình và ban quản trị sẽ tìm giải pháp hỗ trợ mass cho các bạn, nếu số lượng các bạn đang gặp khó khăn nhiều nhé!\n"
     ]
    }
   ],
   "source": [
    "for post in enable_post:\n",
    "    print (\" ----------------------------------------------- \")\n",
    "    print(post['post_text'])"
   ]
  }
 ],
 "metadata": {
  "kernelspec": {
   "display_name": "base",
   "language": "python",
   "name": "python3"
  },
  "language_info": {
   "codemirror_mode": {
    "name": "ipython",
    "version": 3
   },
   "file_extension": ".py",
   "mimetype": "text/x-python",
   "name": "python",
   "nbconvert_exporter": "python",
   "pygments_lexer": "ipython3",
   "version": "3.11.5"
  },
  "orig_nbformat": 4
 },
 "nbformat": 4,
 "nbformat_minor": 2
}
